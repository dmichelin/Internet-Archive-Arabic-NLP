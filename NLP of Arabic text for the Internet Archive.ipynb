{
 "cells": [
  {
   "cell_type": "markdown",
   "metadata": {},
   "source": [
    "# Natural Langauge Processing of ISIS Content\n",
    "This notebook contains information regarding the efforts of **Kamal Kamalaldin** and **Will Fitzgerald** in filtering ISIS contents that violate the terms of service from the Internet Archive (www.archive.org)."
   ]
  },
  {
   "cell_type": "markdown",
   "metadata": {},
   "source": [
    "## Requirements\n",
    "1. **Python 3+** (current version is 3.5). This should be a straightforward thing to [install](https://www.python.org/downloads/)\n",
    "2. [**pip3**](https://pip.pypa.io/en/stable/installing/) or [**homebrew**](http://brew.sh/) command line tools (homeb. We will be using these tools in install other, more essential tools.\n",
    "3. **The Internet Archive command tools**, refered to throughout this notebook as *ia*. Here we use pip to install *ia*. It can also be installed using any of the previous command line tools one or more of which we just installed.\n",
    "    - using homebrew: \"brew install internetarchive\"\n",
    "    - using pip3: \"pip3 install internetarchive\"\n",
    "4. [** Vowpal Wabbit**](http://hunch.net/~vw/). For macs, this can be installed using homebrew. For windows, perhaps [scoop](http://scoop.sh/) will work."
   ]
  },
  {
   "cell_type": "code",
   "execution_count": 5,
   "metadata": {
    "collapsed": false
   },
   "outputs": [
    {
     "name": "stdout",
     "output_type": "stream",
     "text": [
      "Python 3.5.1\r\n"
     ]
    }
   ],
   "source": [
    "! python3 -V"
   ]
  },
  {
   "cell_type": "code",
   "execution_count": 2,
   "metadata": {
    "collapsed": false
   },
   "outputs": [
    {
     "name": "stdout",
     "output_type": "stream",
     "text": [
      "Requirement already satisfied (use --upgrade to upgrade): internetarchive in /Library/Frameworks/Python.framework/Versions/3.5/lib/python3.5/site-packages\r\n",
      "Requirement already satisfied (use --upgrade to upgrade): requests==2.7.0 in /Library/Frameworks/Python.framework/Versions/3.5/lib/python3.5/site-packages (from internetarchive)\r\n",
      "Requirement already satisfied (use --upgrade to upgrade): jsonpatch==0.4 in /Library/Frameworks/Python.framework/Versions/3.5/lib/python3.5/site-packages (from internetarchive)\r\n",
      "Requirement already satisfied (use --upgrade to upgrade): docopt==0.6.2 in /Library/Frameworks/Python.framework/Versions/3.5/lib/python3.5/site-packages (from internetarchive)\r\n",
      "Requirement already satisfied (use --upgrade to upgrade): PyYAML==3.11 in /Library/Frameworks/Python.framework/Versions/3.5/lib/python3.5/site-packages (from internetarchive)\r\n",
      "Requirement already satisfied (use --upgrade to upgrade): clint==0.3.3 in /Library/Frameworks/Python.framework/Versions/3.5/lib/python3.5/site-packages (from internetarchive)\r\n",
      "Requirement already satisfied (use --upgrade to upgrade): six==1.4.1 in /Library/Frameworks/Python.framework/Versions/3.5/lib/python3.5/site-packages (from internetarchive)\r\n",
      "Requirement already satisfied (use --upgrade to upgrade): args in /Library/Frameworks/Python.framework/Versions/3.5/lib/python3.5/site-packages (from clint==0.3.3->internetarchive)\r\n"
     ]
    }
   ],
   "source": [
    "! pip install internetarchive"
   ]
  },
  {
   "cell_type": "markdown",
   "metadata": {},
   "source": [
    "## Data collection\n",
    "At the beginning of our endeavour, we attempted to categories arabic item entries into those violating the term of service, and those who do not. Items can violate the term of service if they are \"deemed offensive, disturbing, pornographic, racist, sexist, bizarre, misleading, fraudulent, or otherwise objectionable\" (Terms of Service, Internet Archive). As Kamal was the only person knowledgable enough in the Arabic language to understand and categorize items, it was quickly aparent that the rate at which items were categorized was too slow to attain the sufficient data to train a model. Therefore, another approach was considered.\n",
    "\n",
    "For the data portion, a director tree was created."
   ]
  },
  {
   "cell_type": "code",
   "execution_count": 19,
   "metadata": {
    "collapsed": false
   },
   "outputs": [
    {
     "name": "stdout",
     "output_type": "stream",
     "text": [
      "mkdir: data: File exists\r\n"
     ]
    }
   ],
   "source": [
    "! mkdir data"
   ]
  },
  {
   "cell_type": "markdown",
   "metadata": {},
   "source": [
    "##### ISIS Collection"
   ]
  },
  {
   "cell_type": "markdown",
   "metadata": {},
   "source": [
    "A collection of ~5,000 items that included ISIS/ISIL or their arabic counterparts in them was collected. This collection would represent items that were ISIS related, and assumed to be malicious. "
   ]
  },
  {
   "cell_type": "markdown",
   "metadata": {},
   "source": [
    "First, items with \"الدولة الاسلامية\", the arabic equivalent of Islamic State are searched for. We first examine the number of items returned, then we download them."
   ]
  },
  {
   "cell_type": "code",
   "execution_count": 24,
   "metadata": {
    "collapsed": false
   },
   "outputs": [
    {
     "name": "stdout",
     "output_type": "stream",
     "text": [
      "Number of IDs to download : \n",
      "1093\n",
      "Jlsa-ISIS\n",
      "abohafsaalkaisy_gmail_2015\n",
      "estaddo\n"
     ]
    }
   ],
   "source": [
    "! mkdir data/ISIS\n",
    "! echo \"Number of IDs to download : \"\n",
    "! ia search \"الدولة الاسلامية\" -i -n \n",
    "! ia search \"الدولة الاسلامية\" -i >> data/ISIS/IDList.txt\n",
    "! head -n3 data/ISIS/IDList.txt"
   ]
  },
  {
   "cell_type": "markdown",
   "metadata": {},
   "source": [
    "If you encounter an error running these commands, ensure that you have the latest version of *ia* installed (See **Requirements** above). \n",
    "\n",
    "The -i tag specifies that we are only interested in the ID of the item, not the whole file (we will download those later). The -n tag specifies that we only want to know the number of search results for now.\n",
    "In the third line we ask for the ID to be downloaded and put in a file called ISIS.txt in the data directory. The head command allows us to examine the first three lines of the file we jsut created."
   ]
  },
  {
   "cell_type": "markdown",
   "metadata": {},
   "source": [
    "We now download the metadata for each of the items. This metadata will be the actual data which we will process and do some processing on."
   ]
  },
  {
   "cell_type": "code",
   "execution_count": 7,
   "metadata": {
    "collapsed": false
   },
   "outputs": [
    {
     "ename": "ImportError",
     "evalue": "No module named 'internetarchive'",
     "output_type": "error",
     "traceback": [
      "\u001b[0;31m---------------------------------------------------------------------------\u001b[0m",
      "\u001b[0;31mImportError\u001b[0m                               Traceback (most recent call last)",
      "\u001b[0;32m<ipython-input-7-68961fc42a56>\u001b[0m in \u001b[0;36m<module>\u001b[0;34m()\u001b[0m\n\u001b[0;32m----> 1\u001b[0;31m \u001b[0;32mimport\u001b[0m \u001b[0minternetarchive\u001b[0m\u001b[0;34m\u001b[0m\u001b[0m\n\u001b[0m\u001b[1;32m      2\u001b[0m \u001b[0;34m\u001b[0m\u001b[0m\n\u001b[1;32m      3\u001b[0m \u001b[0;31m#assuming file is already open in write format\u001b[0m\u001b[0;34m\u001b[0m\u001b[0;34m\u001b[0m\u001b[0m\n\u001b[1;32m      4\u001b[0m \u001b[0;32mdef\u001b[0m \u001b[0mwriteMetadataToFile\u001b[0m\u001b[0;34m(\u001b[0m\u001b[0mmetadata\u001b[0m\u001b[0;34m:\u001b[0m \u001b[0mlist\u001b[0m\u001b[0;34m,\u001b[0m \u001b[0mfile\u001b[0m \u001b[0;34m,\u001b[0m \u001b[0mpositive\u001b[0m\u001b[0;34m:\u001b[0m \u001b[0mbool\u001b[0m\u001b[0;34m)\u001b[0m\u001b[0;34m:\u001b[0m\u001b[0;34m\u001b[0m\u001b[0m\n\u001b[1;32m      5\u001b[0m     \u001b[0;31m#collect information\u001b[0m\u001b[0;34m\u001b[0m\u001b[0;34m\u001b[0m\u001b[0m\n",
      "\u001b[0;31mImportError\u001b[0m: No module named 'internetarchive'"
     ]
    }
   ],
   "source": [
    "import internetarchive\n",
    "\n",
    "#assuming file is already open in write format\n",
    "def writeMetadataToFile(metadata: list, file , positive: bool):\n",
    "    #collect information\n",
    "    ID = metadata['identifier']\n",
    "    uploader = metadata['uploader']\n",
    "    title = metadata['title']\n",
    "    subject = metadata['subject']\n",
    "    description = metadata['description']\n",
    "    publishDate = metadata['publicdate']\n",
    "    addedDate = metadata['addeddate']\n",
    "    collection = metadata['collection']\n",
    "    \n",
    "    #write to file\n",
    "    if(positive):\n",
    "        file.write(\"+1 | identifier: \" + ID + \" uploader: \" + uploader + \" title: \" + title + \" subject: \" \\\n",
    "                   + subject + \" description\" + description + \" publishDate: \" + publishDate + \" addedDate: \"\\\n",
    "                   + addedDate + \" collection: \" + collection + \"\\n\")\n",
    "    else:\n",
    "        file.write(\"-1 | identifier: \" + ID + \" uploader: \" + uploader + \" title: \" + title + \" subject: \" \\\n",
    "                   + subject + \" description\" + description + \" publishDate: \" + publishDate + \" addedDate: \"\\\n",
    "                   + addedDate + \" collection: \" + collection + \"\\n\")\n",
    "    \n",
    "    \n",
    "ISIS_Metadata_vw_file = open('data/ISIS/Metadata.txt', 'w')\n",
    "ISIS_ID_file = open('data/ISIS/IDList.txt', 'r')\n",
    "\n",
    "\n",
    "for line in ISIS_ID_file:\n",
    "    item = ia.get_item(line)\n",
    "    metadata = item.get_metadata()['metadata']\n",
    "    writeMetadataToFile(metadata, ISIS_Metadata_vw_file, True)\n",
    "\n",
    "    \n",
    "    "
   ]
  },
  {
   "cell_type": "markdown",
   "metadata": {},
   "source": [
    "A sample (~40 items) of this collection was inspected to determine the accuracy of the assumption (how many items in the sample are *actually* ISIS content that violated terms of service). The accurasy of our assumption was recorded as $AccViol$"
   ]
  },
  {
   "cell_type": "code",
   "execution_count": 2,
   "metadata": {
    "collapsed": false
   },
   "outputs": [
    {
     "name": "stdout",
     "output_type": "stream",
     "text": [
      "Placeholder code\n"
     ]
    }
   ],
   "source": [
    "print(\"Placeholder code\")\n",
    "\n",
    "AccViol = 0"
   ]
  },
  {
   "cell_type": "markdown",
   "metadata": {},
   "source": [
    "##### Arabic-non-ISIS Collection"
   ]
  },
  {
   "cell_type": "markdown",
   "metadata": {},
   "source": [
    "Another collectino of ~5,000 items that included general arabic words was collected. This collection would represent items that included arabic text but were not violating of the terms of service."
   ]
  },
  {
   "cell_type": "code",
   "execution_count": null,
   "metadata": {
    "collapsed": true
   },
   "outputs": [],
   "source": [
    "print(\"Placeholder Code\")"
   ]
  },
  {
   "cell_type": "markdown",
   "metadata": {},
   "source": [
    "A sample (~40 items) of this collection was inspected to determine the accuracy of the assumption (how many items in the sample are *actually* general arabic content that do not violate the terms of service). The accuracy of our assumption was recorded as $AccAra$"
   ]
  },
  {
   "cell_type": "code",
   "execution_count": 2,
   "metadata": {
    "collapsed": false
   },
   "outputs": [
    {
     "name": "stdout",
     "output_type": "stream",
     "text": [
      "Placeholder code\n"
     ]
    }
   ],
   "source": [
    "print(\"Placeholder code\")\n",
    "\n",
    "AccAra = 0"
   ]
  }
 ],
 "metadata": {
  "kernelspec": {
   "display_name": "Python 3",
   "language": "python",
   "name": "python3"
  },
  "language_info": {
   "codemirror_mode": {
    "name": "ipython",
    "version": 3
   },
   "file_extension": ".py",
   "mimetype": "text/x-python",
   "name": "python",
   "nbconvert_exporter": "python",
   "pygments_lexer": "ipython3",
   "version": "3.5.1"
  }
 },
 "nbformat": 4,
 "nbformat_minor": 0
}
